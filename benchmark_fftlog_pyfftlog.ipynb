{
 "cells": [
  {
   "cell_type": "markdown",
   "metadata": {},
   "source": [
    "# Benchmark `FFTLog` vs `pyfftlog`\n",
    "\n",
    "Using \n",
    "- https://github.com/prisae/fftlog/blob/master/fftlogtest.ipynb ;\n",
    "- https://github.com/prisae/pyfftlog/blob/master/fftlogtest.ipynb .\n",
    "\n",
    "Consult these notebooks for any explanation, there are no comments here, just a benchmark.\n",
    "\n",
    "### Notes:\n",
    "\n",
    "To run, you need to\n",
    "- download [fftlog](https://github.com/prisae/fftlog) and run `python setup.py install`;\n",
    "- download [pyfftlog](https://github.com/prisae/pyfftlog) and place `pyfftlog.py` in this directory."
   ]
  },
  {
   "cell_type": "code",
   "execution_count": 1,
   "metadata": {
    "nbpresent": {
     "id": "4cf9c8a2-cf5f-45cd-b5da-0b1c7fe23108"
    }
   },
   "outputs": [],
   "source": [
    "import fftlog\n",
    "import pyfftlog\n",
    "import numpy as np\n",
    "import matplotlib.pyplot as plt"
   ]
  },
  {
   "cell_type": "code",
   "execution_count": 2,
   "metadata": {
    "nbpresent": {
     "id": "4cf9c8a2-cf5f-45cd-b5da-0b1c7fe23108"
    }
   },
   "outputs": [],
   "source": [
    "%matplotlib inline\n",
    "plt.style.use('ggplot')"
   ]
  },
  {
   "cell_type": "code",
   "execution_count": 4,
   "metadata": {},
   "outputs": [
    {
     "name": "stdout",
     "output_type": "stream",
     "text": [
      "\n",
      " ==> n ::    8 -- Result is the same: True (True)\n",
      "49.5 µs ± 3.6 µs per loop (mean ± std. dev. of 7 runs, 10000 loops each)\n",
      "1.58 µs ± 263 ns per loop (mean ± std. dev. of 7 runs, 1000000 loops each)\n",
      "\n",
      " ==> n ::   16 -- Result is the same: True (True)\n",
      "69.7 µs ± 11.8 µs per loop (mean ± std. dev. of 7 runs, 10000 loops each)\n",
      "2.33 µs ± 586 ns per loop (mean ± std. dev. of 7 runs, 1000000 loops each)\n",
      "\n",
      " ==> n ::   32 -- Result is the same: True (True)\n",
      "56.6 µs ± 3.21 µs per loop (mean ± std. dev. of 7 runs, 10000 loops each)\n",
      "2.22 µs ± 270 ns per loop (mean ± std. dev. of 7 runs, 100000 loops each)\n",
      "\n",
      " ==> n ::   64 -- Result is the same: True (True)\n",
      "52.4 µs ± 4.15 µs per loop (mean ± std. dev. of 7 runs, 10000 loops each)\n",
      "3.88 µs ± 195 ns per loop (mean ± std. dev. of 7 runs, 100000 loops each)\n",
      "\n",
      " ==> n ::  128 -- Result is the same: True (True)\n",
      "79 µs ± 24.7 µs per loop (mean ± std. dev. of 7 runs, 10000 loops each)\n",
      "7.67 µs ± 1.1 µs per loop (mean ± std. dev. of 7 runs, 100000 loops each)\n",
      "\n",
      " ==> n ::  256 -- Result is the same: True (True)\n",
      "70.7 µs ± 4.84 µs per loop (mean ± std. dev. of 7 runs, 10000 loops each)\n",
      "13.2 µs ± 1.11 µs per loop (mean ± std. dev. of 7 runs, 100000 loops each)\n",
      "\n",
      " ==> n ::  512 -- Result is the same: True (True)\n",
      "95 µs ± 5.21 µs per loop (mean ± std. dev. of 7 runs, 10000 loops each)\n",
      "25.5 µs ± 2.03 µs per loop (mean ± std. dev. of 7 runs, 10000 loops each)\n",
      "\n",
      " ==> n :: 1024 -- Result is the same: True (True)\n",
      "136 µs ± 10.7 µs per loop (mean ± std. dev. of 7 runs, 10000 loops each)\n",
      "48.7 µs ± 3.33 µs per loop (mean ± std. dev. of 7 runs, 10000 loops each)\n",
      "\n",
      " ==> n :: 2048 -- Result is the same: True (True)\n",
      "196 µs ± 23.7 µs per loop (mean ± std. dev. of 7 runs, 1000 loops each)\n",
      "98.7 µs ± 5.03 µs per loop (mean ± std. dev. of 7 runs, 10000 loops each)\n",
      "\n",
      " ==> n :: 4096 -- Result is the same: True (True)\n",
      "346 µs ± 20.8 µs per loop (mean ± std. dev. of 7 runs, 1000 loops each)\n",
      "216 µs ± 8.9 µs per loop (mean ± std. dev. of 7 runs, 10000 loops each)\n"
     ]
    }
   ],
   "source": [
    "logrmin = -8\n",
    "logrmax = 8\n",
    "mu = 0\n",
    "q = 0\n",
    "kr = 1\n",
    "kropt = 1\n",
    "tdir = 1\n",
    "logrc = (logrmin + logrmax)/2\n",
    "\n",
    "nn = 2**np.arange(3, 13)\n",
    "result = np.zeros((2, nn.size))\n",
    "\n",
    "for i, n in enumerate(nn):\n",
    "    nc = (n + 1)/2.0\n",
    "    dlogr = (logrmax - logrmin)/n\n",
    "    dlnr = dlogr*np.log(10.0)\n",
    "\n",
    "    # Calculate input function\n",
    "    r = 10**(logrc + (np.arange(1, n+1) - nc)*dlogr)\n",
    "    ar = r**(mu + 1)*np.exp(-r**2/2.0)\n",
    "\n",
    "    # Initialize FFTLog\n",
    "    pykr, pywsave = pyfftlog.fhti(n, mu, dlnr, q, kr, kropt)\n",
    "    kr, wsave, _ = fftlog.fhti(n, mu, dlnr, q, kr, kropt)\n",
    "\n",
    "    logkc = np.log10(kr) - logrc\n",
    "    rk = 10**(logrc - logkc)\n",
    "\n",
    "    # Call FFTlog or pyfftlog\n",
    "    pyak = pyfftlog.fftl(ar.copy(), pywsave, rk, tdir)\n",
    "    ak = fftlog.fftl(ar.copy(), wsave, rk, tdir)\n",
    "    \n",
    "    # Ensure the result is the same\n",
    "    print(f\"\\n ==> n :: {n:4.0f} -- Result is the same: {np.allclose(pyak, ak)} ({np.allclose(pykr, kr)})\")\n",
    "\n",
    "    # Calculate runtime\n",
    "    out = %timeit -o pyfftlog.fftl(ar.copy(), pywsave, rk, tdir)\n",
    "    result[0, i] = out.best\n",
    "    out = %timeit -o fftlog.fftl(ar.copy(), wsave, rk, tdir)\n",
    "    result[1, i] = out.best"
   ]
  },
  {
   "cell_type": "code",
   "execution_count": 9,
   "metadata": {},
   "outputs": [
    {
     "data": {
      "image/png": "[encoded data removed]",
      "text/plain": [
       "<Figure size 432x288 with 1 Axes>"
      ]
     },
     "metadata": {},
     "output_type": "display_data"
    }
   ],
   "source": [
    "plt.figure()\n",
    "plt.title('Benchmark fftlog vs pyfftlog')\n",
    "\n",
    "plt.plot(nn, result[0, :]*1e6, '.-', label='pyfftlog')\n",
    "plt.plot(nn, result[1, :]*1e6, '.-', label='fftlog')\n",
    "plt.yscale('log')\n",
    "plt.xscale('log')\n",
    "plt.xticks(nn, nn)\n",
    "plt.yticks([1, 10, 100], [1, 10, 100])\n",
    "plt.xlabel('n')\n",
    "plt.ylabel('Time (us)')\n",
    "plt.legend()\n",
    "\n",
    "plt.savefig('./benchmark.png', bbox_inches='tight')\n",
    "plt.show()"
   ]
  },
  {
   "cell_type": "code",
   "execution_count": 6,
   "metadata": {},
   "outputs": [
    {
     "data": {
      "text/html": [
       "<table style='border: 3px solid #ddd;'>\n",
       "  <tr>\n",
       "     <td style='text-align: center; font-weight: bold; font-size: 1.2em; border: 2px solid #fff;' colspan='6'>Thu Aug 22 14:31:39 2019 CEST</td>\n",
       "  </tr>\n",
       "  <tr>\n",
       "    <td style='text-align: right; background-color: #ccc; border: 2px solid #fff;'>Linux</td>\n",
       "    <td style='text-align: left; border: 2px solid #fff;'>OS</td>\n",
       "    <td style='text-align: right; background-color: #ccc; border: 2px solid #fff;'>4</td>\n",
       "    <td style='text-align: left; border: 2px solid #fff;'>CPU(s)</td>\n",
       "    <td style='text-align: right; background-color: #ccc; border: 2px solid #fff;'>x86_64</td>\n",
       "    <td style='text-align: left; border: 2px solid #fff;'>Machine</td>\n",
       "  </tr>\n",
       "  <tr>\n",
       "    <td style='text-align: right; background-color: #ccc; border: 2px solid #fff;'>64bit</td>\n",
       "    <td style='text-align: left; border: 2px solid #fff;'>Architecture</td>\n",
       "    <td style='text-align: right; background-color: #ccc; border: 2px solid #fff;'>15.5 GB</td>\n",
       "    <td style='text-align: left; border: 2px solid #fff;'>RAM</td>\n",
       "    <td style='text-align: right; background-color: #ccc; border: 2px solid #fff;'>Jupyter</td>\n",
       "    <td style='text-align: left; border: 2px solid #fff;'>Environment</td>\n",
       "  </tr>\n",
       "  <tr>\n",
       "     <td style='text-align: center; border: 2px solid #fff;' colspan='6'>Python 3.7.3 (default, Mar 27 2019, 22:11:17) \n",
       "[GCC 7.3.0]</td>\n",
       "  </tr>\n",
       "  <tr>\n",
       "    <td style='text-align: right; background-color: #ccc; border: 2px solid #fff;'>1.16.4</td>\n",
       "    <td style='text-align: left; border: 2px solid #fff;'>numpy</td>\n",
       "    <td style='text-align: right; background-color: #ccc; border: 2px solid #fff;'>1.3.0</td>\n",
       "    <td style='text-align: left; border: 2px solid #fff;'>scipy</td>\n",
       "    <td style='text-align: right; background-color: #ccc; border: 2px solid #fff;'>7.6.0</td>\n",
       "    <td style='text-align: left; border: 2px solid #fff;'>IPython</td>\n",
       "  </tr>\n",
       "  <tr>\n",
       "    <td style='text-align: right; background-color: #ccc; border: 2px solid #fff;'>3.1.0</td>\n",
       "    <td style='text-align: left; border: 2px solid #fff;'>matplotlib</td>\n",
       "    <td style='text-align: right; background-color: #ccc; border: 2px solid #fff;'>0.4.1</td>\n",
       "    <td style='text-align: left; border: 2px solid #fff;'>scooby</td>\n",
       "    <td style= border: 2px solid #fff;'></td>\n",
       "    <td style= border: 2px solid #fff;'></td>\n",
       "  </tr>\n",
       "  <tr>\n",
       "     <td style='text-align: center; background-color: #ddd;border: 2px solid #fff;' colspan='6'>Intel(R) Math Kernel Library Version 2019.0.4 Product Build 20190411 for Intel(R) 64 architecture applications</td>\n",
       "  </tr>\n",
       "</table>"
      ],
      "text/plain": [
       "\n",
       "--------------------------------------------------------------------------------\n",
       "  Date: Thu Aug 22 14:31:39 2019 CEST\n",
       "\n",
       "             Linux : OS\n",
       "                 4 : CPU(s)\n",
       "            x86_64 : Machine\n",
       "             64bit : Architecture\n",
       "           15.5 GB : RAM\n",
       "           Jupyter : Environment\n",
       "\n",
       "  Python 3.7.3 (default, Mar 27 2019, 22:11:17)  [GCC 7.3.0]\n",
       "\n",
       "            1.16.4 : numpy\n",
       "             1.3.0 : scipy\n",
       "             7.6.0 : IPython\n",
       "             3.1.0 : matplotlib\n",
       "             0.4.1 : scooby\n",
       "\n",
       "  Intel(R) Math Kernel Library Version 2019.0.4 Product Build 20190411 for\n",
       "  Intel(R) 64 architecture applications\n",
       "--------------------------------------------------------------------------------"
      ]
     },
     "execution_count": 6,
     "metadata": {},
     "output_type": "execute_result"
    }
   ],
   "source": [
    "import scooby\n",
    "scooby.Report()"
   ]
  }
 ],
 "metadata": {
  "anaconda-cloud": {},
  "kernelspec": {
   "display_name": "Python 3",
   "language": "python",
   "name": "python3"
  },
  "language_info": {
   "codemirror_mode": {
    "name": "ipython",
    "version": 3
   },
   "file_extension": ".py",
   "mimetype": "text/x-python",
   "name": "python",
   "nbconvert_exporter": "python",
   "pygments_lexer": "ipython3",
   "version": "3.7.3"
  },
  "nbpresent": {
   "slides": {
    "2a1825bf-35ff-4370-b129-ba51addc5c69": {
     "id": "2a1825bf-35ff-4370-b129-ba51addc5c69",
     "prev": "3d6a47d5-4fff-46fe-b063-1afce739efbb",
     "regions": {
      "c651f707-58e0-4b88-b861-0c6608fca1d5": {
       "attrs": {
        "height": 0.8,
        "width": 0.8,
        "x": 0.1,
        "y": 0.1
       },
       "content": {
        "cell": "6900d774-2898-4efd-9798-78bc8f08d0da",
        "part": "whole"
       },
       "id": "c651f707-58e0-4b88-b861-0c6608fca1d5"
      }
     }
    },
    "3d6a47d5-4fff-46fe-b063-1afce739efbb": {
     "id": "3d6a47d5-4fff-46fe-b063-1afce739efbb",
     "prev": "aa9c2bcf-e54f-4714-946e-18921616a039",
     "regions": {
      "e461f359-4831-4693-84fe-480f6c1db14a": {
       "attrs": {
        "height": 0.8,
        "width": 0.8,
        "x": 0.1,
        "y": 0.1
       },
       "content": {
        "cell": "1a31a0e1-bcf6-452d-aabb-c48c94a9e85d",
        "part": "whole"
       },
       "id": "e461f359-4831-4693-84fe-480f6c1db14a"
      }
     }
    },
    "54253e19-21cb-4738-94f0-109d6bbb2bde": {
     "id": "54253e19-21cb-4738-94f0-109d6bbb2bde",
     "prev": "5f5302d2-4747-4c5a-a6c3-1d0fc8f7fb66",
     "regions": {
      "1735c9df-b5c2-40d7-b562-b869e4b966cd": {
       "attrs": {
        "height": 0.8,
        "width": 0.8,
        "x": 0.1,
        "y": 0.1
       },
       "content": {
        "cell": "f85d2094-6d09-4627-a0ab-7cab37ed3c9f",
        "part": "whole"
       },
       "id": "1735c9df-b5c2-40d7-b562-b869e4b966cd"
      }
     }
    },
    "5f5302d2-4747-4c5a-a6c3-1d0fc8f7fb66": {
     "id": "5f5302d2-4747-4c5a-a6c3-1d0fc8f7fb66",
     "prev": "fc333044-619d-44bd-8c7f-0a53dd4b220a",
     "regions": {
      "41618366-0a77-4f2d-9d9b-77ed062d6959": {
       "attrs": {
        "height": 0.8,
        "width": 0.8,
        "x": 0.1,
        "y": 0.1
       },
       "content": {
        "cell": "83e23522-1665-45d6-8bc0-869b981a0e66",
        "part": "whole"
       },
       "id": "41618366-0a77-4f2d-9d9b-77ed062d6959"
      }
     }
    },
    "aa9c2bcf-e54f-4714-946e-18921616a039": {
     "id": "aa9c2bcf-e54f-4714-946e-18921616a039",
     "prev": "54253e19-21cb-4738-94f0-109d6bbb2bde",
     "regions": {
      "1b48f280-81c6-4746-8fff-091d4b10b448": {
       "attrs": {
        "height": 0.8,
        "width": 0.8,
        "x": 0.1,
        "y": 0.1
       },
       "content": {
        "cell": "0631a68b-7d4d-4326-abff-8628f2004afc",
        "part": "whole"
       },
       "id": "1b48f280-81c6-4746-8fff-091d4b10b448"
      }
     }
    },
    "b5a49768-441a-449c-bbf3-d2a7febf0235": {
     "id": "b5a49768-441a-449c-bbf3-d2a7febf0235",
     "prev": null,
     "regions": {
      "7ae15b0a-8675-4544-8708-f2e95dda286f": {
       "attrs": {
        "height": 0.8,
        "width": 0.8,
        "x": 0.1,
        "y": 0.1
       },
       "content": {
        "cell": "4cf9c8a2-cf5f-45cd-b5da-0b1c7fe23108",
        "part": "whole"
       },
       "id": "7ae15b0a-8675-4544-8708-f2e95dda286f"
      }
     }
    },
    "bc930404-89e7-4fc9-a1f9-e9edc1f4d1d4": {
     "id": "bc930404-89e7-4fc9-a1f9-e9edc1f4d1d4",
     "prev": "2a1825bf-35ff-4370-b129-ba51addc5c69",
     "regions": {
      "76296bab-9070-4528-b79c-558debc8f675": {
       "attrs": {
        "height": 0.8,
        "width": 0.8,
        "x": 0.1,
        "y": 0.1
       },
       "content": {
        "cell": "3ac01b43-1f53-4902-a857-5a0b0a6ef59b",
        "part": "whole"
       },
       "id": "76296bab-9070-4528-b79c-558debc8f675"
      }
     }
    },
    "fc333044-619d-44bd-8c7f-0a53dd4b220a": {
     "id": "fc333044-619d-44bd-8c7f-0a53dd4b220a",
     "prev": "b5a49768-441a-449c-bbf3-d2a7febf0235",
     "regions": {
      "fea6658a-c555-450d-b33b-0e44fe7b1cf8": {
       "attrs": {
        "height": 0.8,
        "width": 0.8,
        "x": 0.1,
        "y": 0.1
       },
       "content": {
        "cell": "d0a7e487-d7b9-418c-810f-f12d33c88c85",
        "part": "whole"
       },
       "id": "fea6658a-c555-450d-b33b-0e44fe7b1cf8"
      }
     }
    }
   },
   "themes": {}
  }
 },
 "nbformat": 4,
 "nbformat_minor": 1
}
